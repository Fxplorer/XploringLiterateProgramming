{
 "cells": [
  {
   "cell_type": "code",
   "execution_count": null,
   "metadata": {
    "dotnet_repl_cellExecutionStartTime": "2024-03-15T21:52:03.7851886-04:00",
    "dotnet_repl_cellExecutionEndTime": "2024-03-15T21:52:05.8474853-04:00",
    "dotnet_interactive": {
     "language": "fsharp"
    },
    "polyglot_notebook": {
     "kernelName": "fsharp"
    }
   },
   "outputs": [],
   "source": [
    "//This is a comment in an F# block\n",
    "\n",
    "///xml comment in an F# block\n",
    "let x = 1"
   ]
  },
  {
   "cell_type": "code",
   "execution_count": null,
   "metadata": {
    "dotnet_repl_cellExecutionStartTime": "2024-03-15T21:52:05.8478467-04:00",
    "dotnet_repl_cellExecutionEndTime": "2024-03-15T21:52:05.8984537-04:00",
    "dotnet_interactive": {
     "language": "fsharp"
    },
    "polyglot_notebook": {
     "kernelName": "fsharp"
    }
   },
   "outputs": [],
   "source": [
    "///tooltip for function\n",
    "let y v = \n",
    "    v + 1"
   ]
  },
  {
   "cell_type": "code",
   "execution_count": null,
   "metadata": {
    "dotnet_repl_cellExecutionStartTime": "2024-03-15T21:52:05.8984788-04:00",
    "dotnet_repl_cellExecutionEndTime": "2024-03-15T21:52:05.9223316-04:00",
    "dotnet_interactive": {
     "language": "fsharp"
    },
    "polyglot_notebook": {
     "kernelName": "fsharp"
    }
   },
   "outputs": [
    {
     "name": "stdout",
     "output_type": "stream",
     "text": [
      "2\r\n"
     ]
    }
   ],
   "source": [
    "//test\n",
    "y 1\n",
    "|> printfn \"%A\""
   ]
  },
  {
   "cell_type": "code",
   "execution_count": null,
   "metadata": {
    "dotnet_repl_cellExecutionStartTime": "2024-03-15T21:52:05.9223474-04:00",
    "dotnet_repl_cellExecutionEndTime": "2024-03-15T21:52:05.9356743-04:00",
    "dotnet_interactive": {
     "language": "mermaid"
    },
    "polyglot_notebook": {
     "kernelName": "mermaid"
    }
   },
   "outputs": [
    {
     "ename": "Error",
     "evalue": "Microsoft.DotNet.Interactive.NoSuitableKernelException: No kernel found for SubmitCode: flowchart LR ... with target kernel 'mermaid'.\r\n   at Microsoft.DotNet.Interactive.Commands.KernelCommand.InvokeAsync(KernelInvocationContext context)\r\n   at Microsoft.DotNet.Interactive.Kernel.HandleAsync(KernelCommand command, KernelInvocationContext context)\r\n   at Microsoft.DotNet.Interactive.CompositeKernel.HandleAsync(KernelCommand command, KernelInvocationContext context)\r\n   at Microsoft.DotNet.Interactive.KernelCommandPipeline.<BuildPipeline>b__6_0(KernelCommand command, KernelInvocationContext context, KernelPipelineContinuation _)\r\n   at Microsoft.DotNet.Interactive.KernelCommandPipeline.<>c__DisplayClass6_1.<<BuildPipeline>b__3>d.MoveNext()\r\n--- End of stack trace from previous location ---\r\n   at dotnet_repl.KernelBuilder.<>c.<<CreateKernel>b__1_0>d.MoveNext() in C:\\projects\\dotnet-repl\\src\\dotnet-repl\\KernelBuilder.cs:line 39\r\n--- End of stack trace from previous location ---\r\n   at Microsoft.DotNet.Interactive.KernelCommandPipeline.<>c__DisplayClass6_0.<<BuildPipeline>g__Combine|2>d.MoveNext()\r\n--- End of stack trace from previous location ---\r\n   at Microsoft.DotNet.Interactive.KernelCommandPipeline.SendAsync(KernelCommand command, KernelInvocationContext context)",
     "output_type": "error",
     "traceback": [
      "   at Microsoft.DotNet.Interactive.Commands.KernelCommand.InvokeAsync(KernelInvocationContext context)",
      "   at Microsoft.DotNet.Interactive.Kernel.HandleAsync(KernelCommand command, KernelInvocationContext context)",
      "   at Microsoft.DotNet.Interactive.CompositeKernel.HandleAsync(KernelCommand command, KernelInvocationContext context)",
      "   at Microsoft.DotNet.Interactive.KernelCommandPipeline.<BuildPipeline>b__6_0(KernelCommand command, KernelInvocationContext context, KernelPipelineContinuation _)",
      "   at Microsoft.DotNet.Interactive.KernelCommandPipeline.<>c__DisplayClass6_1.<<BuildPipeline>b__3>d.MoveNext()",
      "--- End of stack trace from previous location ---",
      "   at dotnet_repl.KernelBuilder.<>c.<<CreateKernel>b__1_0>d.MoveNext() in C:\\projects\\dotnet-repl\\src\\dotnet-repl\\KernelBuilder.cs:line 39",
      "--- End of stack trace from previous location ---",
      "   at Microsoft.DotNet.Interactive.KernelCommandPipeline.<>c__DisplayClass6_0.<<BuildPipeline>g__Combine|2>d.MoveNext()",
      "--- End of stack trace from previous location ---",
      "   at Microsoft.DotNet.Interactive.KernelCommandPipeline.SendAsync(KernelCommand command, KernelInvocationContext context)"
     ]
    }
   ],
   "source": [
    "flowchart LR\n",
    "  A[Avalonia] --> B[SKia]--> C{Decision}\n",
    "  \n",
    "  C --> D[Result one]\n",
    "  C --> E[Result two]"
   ]
  }
 ],
 "metadata": {
  "kernelspec": {
   "display_name": ".NET (F#)",
   "language": "F#",
   "name": ".net-fsharp"
  },
  "language_info": {
   "file_extension": ".fs",
   "mimetype": "text/x-fsharp",
   "name": "F#",
   "pygments_lexer": "fsharp",
   "version": "6.0"
  },
  "polyglot_notebook": {
   "defaultKernelName": "fsharp",
   "items": [
    {
     "name": "fsharp"
    }
   ]
  },
  "dotnet_interactive": {
   "defaultKernelName": "fsharp",
   "items": [
    {
     "name": "fsharp"
    }
   ]
  }
 },
 "nbformat": 4,
 "nbformat_minor": 5
}